{
  "nbformat": 4,
  "nbformat_minor": 0,
  "metadata": {
    "colab": {
      "name": "Training_Data.ipynb",
      "provenance": [],
      "collapsed_sections": []
    },
    "kernelspec": {
      "name": "python3",
      "display_name": "Python 3"
    }
  },
  "cells": [
    {
      "cell_type": "code",
      "metadata": {
        "id": "mc85IvJT-NMA",
        "colab_type": "code",
        "colab": {}
      },
      "source": [
        "import pandas as pd\n",
        "from sklearn.model_selection import train_test_split"
      ],
      "execution_count": null,
      "outputs": []
    },
    {
      "cell_type": "code",
      "metadata": {
        "id": "MVJ9h9IZ_KOh",
        "colab_type": "code",
        "colab": {
          "base_uri": "https://localhost:8080/",
          "height": 203
        },
        "outputId": "da63f297-0184-4f51-fa51-aba09ba754ef"
      },
      "source": [
        "bgmedic_data = pd.read_csv('./data/bgmedic_diseases.csv', skiprows=1, header=None, names=['Title', 'Text'])\n",
        "bgmedic_data.head()"
      ],
      "execution_count": null,
      "outputs": [
        {
          "output_type": "execute_result",
          "data": {
            "text/html": [
              "<div>\n",
              "<style scoped>\n",
              "    .dataframe tbody tr th:only-of-type {\n",
              "        vertical-align: middle;\n",
              "    }\n",
              "\n",
              "    .dataframe tbody tr th {\n",
              "        vertical-align: top;\n",
              "    }\n",
              "\n",
              "    .dataframe thead th {\n",
              "        text-align: right;\n",
              "    }\n",
              "</style>\n",
              "<table border=\"1\" class=\"dataframe\">\n",
              "  <thead>\n",
              "    <tr style=\"text-align: right;\">\n",
              "      <th></th>\n",
              "      <th>Title</th>\n",
              "      <th>Text</th>\n",
              "    </tr>\n",
              "  </thead>\n",
              "  <tbody>\n",
              "    <tr>\n",
              "      <th>0</th>\n",
              "      <td>Афта</td>\n",
              "      <td>Други имена: афтозна язва, устна афта. Англ: C...</td>\n",
              "    </tr>\n",
              "    <tr>\n",
              "      <th>1</th>\n",
              "      <td>Аутизъм</td>\n",
              "      <td>Други имена: аутистично разстройство. Англ: Au...</td>\n",
              "    </tr>\n",
              "    <tr>\n",
              "      <th>2</th>\n",
              "      <td>Родилни петна</td>\n",
              "      <td>Други имена: Белег по рождение. Англ: Birthmar...</td>\n",
              "    </tr>\n",
              "    <tr>\n",
              "      <th>3</th>\n",
              "      <td>Дребна шарка</td>\n",
              "      <td>Други имена: Морбили, брусница. Англ: Rubeola,...</td>\n",
              "    </tr>\n",
              "    <tr>\n",
              "      <th>4</th>\n",
              "      <td>Кучешка тения</td>\n",
              "      <td>Други имена: Ехинококоза Англ: Echinococcus, H...</td>\n",
              "    </tr>\n",
              "  </tbody>\n",
              "</table>\n",
              "</div>"
            ],
            "text/plain": [
              "           Title                                               Text\n",
              "0           Афта  Други имена: афтозна язва, устна афта. Англ: C...\n",
              "1        Аутизъм  Други имена: аутистично разстройство. Англ: Au...\n",
              "2  Родилни петна  Други имена: Белег по рождение. Англ: Birthmar...\n",
              "3   Дребна шарка  Други имена: Морбили, брусница. Англ: Rubeola,...\n",
              "4  Кучешка тения  Други имена: Ехинококоза Англ: Echinococcus, H..."
            ]
          },
          "metadata": {
            "tags": []
          },
          "execution_count": 2
        }
      ]
    },
    {
      "cell_type": "code",
      "metadata": {
        "id": "YgnQT12w_cz2",
        "colab_type": "code",
        "colab": {
          "base_uri": "https://localhost:8080/",
          "height": 203
        },
        "outputId": "812b0b90-14d4-48dc-b65f-595dc28d9028"
      },
      "source": [
        "columns_to_use = [0, 3]\n",
        "framar_data = pd.read_csv(\n",
        "    './data/framar_diseases.csv',\n",
        "    skiprows=1,\n",
        "    header=None,\n",
        "    usecols = [i for i in columns_to_use],\n",
        "    names=['Title', 'Text']\n",
        ")\n",
        "framar_data.head()"
      ],
      "execution_count": null,
      "outputs": [
        {
          "output_type": "execute_result",
          "data": {
            "text/html": [
              "<div>\n",
              "<style scoped>\n",
              "    .dataframe tbody tr th:only-of-type {\n",
              "        vertical-align: middle;\n",
              "    }\n",
              "\n",
              "    .dataframe tbody tr th {\n",
              "        vertical-align: top;\n",
              "    }\n",
              "\n",
              "    .dataframe thead th {\n",
              "        text-align: right;\n",
              "    }\n",
              "</style>\n",
              "<table border=\"1\" class=\"dataframe\">\n",
              "  <thead>\n",
              "    <tr style=\"text-align: right;\">\n",
              "      <th></th>\n",
              "      <th>Title</th>\n",
              "      <th>Text</th>\n",
              "    </tr>\n",
              "  </thead>\n",
              "  <tbody>\n",
              "    <tr>\n",
              "      <th>0</th>\n",
              "      <td>Инфекциозни и паразитни болести МКБ A00-B99</td>\n",
              "      <td>Изучаването на инфекциите води своето начало о...</td>\n",
              "    </tr>\n",
              "    <tr>\n",
              "      <th>1</th>\n",
              "      <td>Болести на нервната система МКБ G00-G99</td>\n",
              "      <td>В рубриката болести на нервната система се вкл...</td>\n",
              "    </tr>\n",
              "    <tr>\n",
              "      <th>2</th>\n",
              "      <td>Болести на окото и придатъците му МКБ H00-H59</td>\n",
              "      <td>Окото е зрителният орган на човека. Чрез него ...</td>\n",
              "    </tr>\n",
              "    <tr>\n",
              "      <th>3</th>\n",
              "      <td>Вродени аномалии, деформации и хромозомни абер...</td>\n",
              "      <td>Вродените аномалии, деформации и хромозомни аб...</td>\n",
              "    </tr>\n",
              "    <tr>\n",
              "      <th>4</th>\n",
              "      <td>Болести на ендокринната система, разстройства ...</td>\n",
              "      <td>Болести на ендокринната система, разстройства ...</td>\n",
              "    </tr>\n",
              "  </tbody>\n",
              "</table>\n",
              "</div>"
            ],
            "text/plain": [
              "                                               Title                                               Text\n",
              "0        Инфекциозни и паразитни болести МКБ A00-B99  Изучаването на инфекциите води своето начало о...\n",
              "1            Болести на нервната система МКБ G00-G99  В рубриката болести на нервната система се вкл...\n",
              "2      Болести на окото и придатъците му МКБ H00-H59  Окото е зрителният орган на човека. Чрез него ...\n",
              "3  Вродени аномалии, деформации и хромозомни абер...  Вродените аномалии, деформации и хромозомни аб...\n",
              "4  Болести на ендокринната система, разстройства ...  Болести на ендокринната система, разстройства ..."
            ]
          },
          "metadata": {
            "tags": []
          },
          "execution_count": 3
        }
      ]
    },
    {
      "cell_type": "code",
      "metadata": {
        "id": "7n0K6nnuCHBZ",
        "colab_type": "code",
        "colab": {}
      },
      "source": [
        "pulse_data_as_json = pd.read_json('./data/pulse_data.json')\n",
        "pulse_data_as_json.to_csv('./data/pulse_diseases.csv', sep=',', encoding='utf-8', header=True, index=False)"
      ],
      "execution_count": null,
      "outputs": []
    },
    {
      "cell_type": "code",
      "metadata": {
        "id": "uSXKqxm9CgPr",
        "colab_type": "code",
        "colab": {
          "base_uri": "https://localhost:8080/",
          "height": 203
        },
        "outputId": "20f5439b-64f2-4abf-e0fa-8f6f275c6a91"
      },
      "source": [
        "columns_to_use = [1, 3]\n",
        "pulse_data = pd.read_csv(\n",
        "    './data/pulse_diseases.csv',\n",
        "    skiprows=1,\n",
        "    header=None,\n",
        "    usecols = [i for i in columns_to_use],\n",
        "    names=['Text', 'Title']\n",
        ")\n",
        "pulse_data = pulse_data[pulse_data.columns[::-1]]\n",
        "\n",
        "pulse_data['Text'] = pulse_data['Text'].str.replace(r'\\\\n', '')\n",
        "pulse_data['Text'] = pulse_data['Text'].str.replace(r'\\\\t', ' ')\n",
        "pulse_data['Text'] = pulse_data['Text'].str.replace(r'\\\\r', ' ')\n",
        "pulse_data['Text'] = pulse_data['Text'].str[4:]\n",
        "pulse_data['Text'] = pulse_data['Text'].str[:-3]\n",
        "pulse_data['Text'] = pulse_data['Text'].str.replace('\\', \\'[0-9].', '', regex=True)\n",
        "pulse_data.head()"
      ],
      "execution_count": null,
      "outputs": [
        {
          "output_type": "execute_result",
          "data": {
            "text/html": [
              "<div>\n",
              "<style scoped>\n",
              "    .dataframe tbody tr th:only-of-type {\n",
              "        vertical-align: middle;\n",
              "    }\n",
              "\n",
              "    .dataframe tbody tr th {\n",
              "        vertical-align: top;\n",
              "    }\n",
              "\n",
              "    .dataframe thead th {\n",
              "        text-align: right;\n",
              "    }\n",
              "</style>\n",
              "<table border=\"1\" class=\"dataframe\">\n",
              "  <thead>\n",
              "    <tr style=\"text-align: right;\">\n",
              "      <th></th>\n",
              "      <th>Title</th>\n",
              "      <th>Text</th>\n",
              "    </tr>\n",
              "  </thead>\n",
              "  <tbody>\n",
              "    <tr>\n",
              "      <th>0</th>\n",
              "      <td>Височинна болест</td>\n",
              "      <td>Какво представлява височинната болест?  Височ...</td>\n",
              "    </tr>\n",
              "    <tr>\n",
              "      <th>1</th>\n",
              "      <td>Васкулити</td>\n",
              "      <td>Можем ли да се предпазим от развитие на васку...</td>\n",
              "    </tr>\n",
              "    <tr>\n",
              "      <th>2</th>\n",
              "      <td>Базално-клетъчен карцином</td>\n",
              "      <td>Какво представлява базално-клетъчния карцином...</td>\n",
              "    </tr>\n",
              "    <tr>\n",
              "      <th>3</th>\n",
              "      <td>Варицела (лещенка)</td>\n",
              "      <td>Може ли да се предпазим от варицела?   Една о...</td>\n",
              "    </tr>\n",
              "    <tr>\n",
              "      <th>4</th>\n",
              "      <td>Вирусен гастроентерит</td>\n",
              "      <td>Кои са причнителите и какъв е механизмът на з...</td>\n",
              "    </tr>\n",
              "  </tbody>\n",
              "</table>\n",
              "</div>"
            ],
            "text/plain": [
              "                       Title                                               Text\n",
              "0           Височинна болест   Какво представлява височинната болест?  Височ...\n",
              "1                  Васкулити   Можем ли да се предпазим от развитие на васку...\n",
              "2  Базално-клетъчен карцином   Какво представлява базално-клетъчния карцином...\n",
              "3         Варицела (лещенка)   Може ли да се предпазим от варицела?   Една о...\n",
              "4      Вирусен гастроентерит   Кои са причнителите и какъв е механизмът на з..."
            ]
          },
          "metadata": {
            "tags": []
          },
          "execution_count": 5
        }
      ]
    },
    {
      "cell_type": "code",
      "metadata": {
        "id": "vVzXC2ZBGDES",
        "colab_type": "code",
        "colab": {
          "base_uri": "https://localhost:8080/",
          "height": 35
        },
        "outputId": "edc938aa-b0db-4971-d35c-50d03ae2f6b0"
      },
      "source": [
        "bgmedic_data.shape"
      ],
      "execution_count": null,
      "outputs": [
        {
          "output_type": "execute_result",
          "data": {
            "text/plain": [
              "(236, 2)"
            ]
          },
          "metadata": {
            "tags": []
          },
          "execution_count": 6
        }
      ]
    },
    {
      "cell_type": "code",
      "metadata": {
        "id": "uq4bCNBFGuz3",
        "colab_type": "code",
        "colab": {
          "base_uri": "https://localhost:8080/",
          "height": 35
        },
        "outputId": "0e79e468-a2a7-455a-dbbb-62e6d5b49b09"
      },
      "source": [
        "framar_data.shape"
      ],
      "execution_count": null,
      "outputs": [
        {
          "output_type": "execute_result",
          "data": {
            "text/plain": [
              "(9519, 2)"
            ]
          },
          "metadata": {
            "tags": []
          },
          "execution_count": 7
        }
      ]
    },
    {
      "cell_type": "code",
      "metadata": {
        "id": "GvDCxDEpGvBE",
        "colab_type": "code",
        "colab": {
          "base_uri": "https://localhost:8080/",
          "height": 35
        },
        "outputId": "dd610814-745a-4191-c056-b88c6f0862de"
      },
      "source": [
        "pulse_data.shape"
      ],
      "execution_count": null,
      "outputs": [
        {
          "output_type": "execute_result",
          "data": {
            "text/plain": [
              "(473, 2)"
            ]
          },
          "metadata": {
            "tags": []
          },
          "execution_count": 8
        }
      ]
    },
    {
      "cell_type": "code",
      "metadata": {
        "id": "yIB9_5cfFTf7",
        "colab_type": "code",
        "colab": {
          "base_uri": "https://localhost:8080/",
          "height": 203
        },
        "outputId": "50644e2e-c8f0-4c71-ea06-3a96f775fe75"
      },
      "source": [
        "combined_data = pd.concat([bgmedic_data, framar_data, pulse_data], axis=0)\n",
        "combined_data.head()"
      ],
      "execution_count": null,
      "outputs": [
        {
          "output_type": "execute_result",
          "data": {
            "text/html": [
              "<div>\n",
              "<style scoped>\n",
              "    .dataframe tbody tr th:only-of-type {\n",
              "        vertical-align: middle;\n",
              "    }\n",
              "\n",
              "    .dataframe tbody tr th {\n",
              "        vertical-align: top;\n",
              "    }\n",
              "\n",
              "    .dataframe thead th {\n",
              "        text-align: right;\n",
              "    }\n",
              "</style>\n",
              "<table border=\"1\" class=\"dataframe\">\n",
              "  <thead>\n",
              "    <tr style=\"text-align: right;\">\n",
              "      <th></th>\n",
              "      <th>Title</th>\n",
              "      <th>Text</th>\n",
              "    </tr>\n",
              "  </thead>\n",
              "  <tbody>\n",
              "    <tr>\n",
              "      <th>0</th>\n",
              "      <td>Афта</td>\n",
              "      <td>Други имена: афтозна язва, устна афта. Англ: C...</td>\n",
              "    </tr>\n",
              "    <tr>\n",
              "      <th>1</th>\n",
              "      <td>Аутизъм</td>\n",
              "      <td>Други имена: аутистично разстройство. Англ: Au...</td>\n",
              "    </tr>\n",
              "    <tr>\n",
              "      <th>2</th>\n",
              "      <td>Родилни петна</td>\n",
              "      <td>Други имена: Белег по рождение. Англ: Birthmar...</td>\n",
              "    </tr>\n",
              "    <tr>\n",
              "      <th>3</th>\n",
              "      <td>Дребна шарка</td>\n",
              "      <td>Други имена: Морбили, брусница. Англ: Rubeola,...</td>\n",
              "    </tr>\n",
              "    <tr>\n",
              "      <th>4</th>\n",
              "      <td>Кучешка тения</td>\n",
              "      <td>Други имена: Ехинококоза Англ: Echinococcus, H...</td>\n",
              "    </tr>\n",
              "  </tbody>\n",
              "</table>\n",
              "</div>"
            ],
            "text/plain": [
              "           Title                                               Text\n",
              "0           Афта  Други имена: афтозна язва, устна афта. Англ: C...\n",
              "1        Аутизъм  Други имена: аутистично разстройство. Англ: Au...\n",
              "2  Родилни петна  Други имена: Белег по рождение. Англ: Birthmar...\n",
              "3   Дребна шарка  Други имена: Морбили, брусница. Англ: Rubeola,...\n",
              "4  Кучешка тения  Други имена: Ехинококоза Англ: Echinococcus, H..."
            ]
          },
          "metadata": {
            "tags": []
          },
          "execution_count": 9
        }
      ]
    },
    {
      "cell_type": "code",
      "metadata": {
        "id": "NKdZNuVtG5e3",
        "colab_type": "code",
        "colab": {
          "base_uri": "https://localhost:8080/",
          "height": 35
        },
        "outputId": "7fccfc97-30cc-4edc-9319-4fc46fe3e5cf"
      },
      "source": [
        "combined_data.shape"
      ],
      "execution_count": null,
      "outputs": [
        {
          "output_type": "execute_result",
          "data": {
            "text/plain": [
              "(10228, 2)"
            ]
          },
          "metadata": {
            "tags": []
          },
          "execution_count": 10
        }
      ]
    },
    {
      "cell_type": "code",
      "metadata": {
        "id": "f6Q-JWmWHA45",
        "colab_type": "code",
        "colab": {}
      },
      "source": [
        "combined_data.to_csv('./data/diseases_data.csv', sep=',', encoding='utf-8', header=True, index=False)"
      ],
      "execution_count": null,
      "outputs": []
    },
    {
      "cell_type": "code",
      "metadata": {
        "id": "TChEFvgy3fAk",
        "colab_type": "code",
        "colab": {}
      },
      "source": [
        "diseases_train, diseases_test = train_test_split(combined_data, train_size=0.80, shuffle=False)"
      ],
      "execution_count": null,
      "outputs": []
    },
    {
      "cell_type": "code",
      "metadata": {
        "id": "WSmT_4I26Lir",
        "colab_type": "code",
        "colab": {
          "base_uri": "https://localhost:8080/",
          "height": 203
        },
        "outputId": "00db8689-b4f0-4716-9e39-3e4f72f53811"
      },
      "source": [
        "diseases_test.head()"
      ],
      "execution_count": null,
      "outputs": [
        {
          "output_type": "execute_result",
          "data": {
            "text/html": [
              "<div>\n",
              "<style scoped>\n",
              "    .dataframe tbody tr th:only-of-type {\n",
              "        vertical-align: middle;\n",
              "    }\n",
              "\n",
              "    .dataframe tbody tr th {\n",
              "        vertical-align: top;\n",
              "    }\n",
              "\n",
              "    .dataframe thead th {\n",
              "        text-align: right;\n",
              "    }\n",
              "</style>\n",
              "<table border=\"1\" class=\"dataframe\">\n",
              "  <thead>\n",
              "    <tr style=\"text-align: right;\">\n",
              "      <th></th>\n",
              "      <th>Title</th>\n",
              "      <th>Text</th>\n",
              "    </tr>\n",
              "  </thead>\n",
              "  <tbody>\n",
              "    <tr>\n",
              "      <th>7946</th>\n",
              "      <td>Открити рани, обхващащи няколко  области от тя...</td>\n",
              "      <td>Раната представлява травмено увреждане на тъка...</td>\n",
              "    </tr>\n",
              "    <tr>\n",
              "      <th>7947</th>\n",
              "      <td>Повърхностни травми, обхващащи  няколко област...</td>\n",
              "      <td>Повърхностните травми представляват увреждане ...</td>\n",
              "    </tr>\n",
              "    <tr>\n",
              "      <th>7948</th>\n",
              "      <td>Травма с неуточнена локализация МКБ T14</td>\n",
              "      <td>Под понятието травма е прието да се разбират н...</td>\n",
              "    </tr>\n",
              "    <tr>\n",
              "      <th>7949</th>\n",
              "      <td>Счупване на долен крайник  на неуточнено ниво ...</td>\n",
              "      <td>Под термина счупване или фрактура се разбира п...</td>\n",
              "    </tr>\n",
              "    <tr>\n",
              "      <th>7950</th>\n",
              "      <td>Други травми на горен крайник  на неуточнено н...</td>\n",
              "      <td>Травмата представлява въздействието на външен ...</td>\n",
              "    </tr>\n",
              "  </tbody>\n",
              "</table>\n",
              "</div>"
            ],
            "text/plain": [
              "                                                  Title                                               Text\n",
              "7946  Открити рани, обхващащи няколко  области от тя...  Раната представлява травмено увреждане на тъка...\n",
              "7947  Повърхностни травми, обхващащи  няколко област...  Повърхностните травми представляват увреждане ...\n",
              "7948            Травма с неуточнена локализация МКБ T14  Под понятието травма е прието да се разбират н...\n",
              "7949  Счупване на долен крайник  на неуточнено ниво ...  Под термина счупване или фрактура се разбира п...\n",
              "7950  Други травми на горен крайник  на неуточнено н...  Травмата представлява въздействието на външен ..."
            ]
          },
          "metadata": {
            "tags": []
          },
          "execution_count": 13
        }
      ]
    },
    {
      "cell_type": "code",
      "metadata": {
        "id": "dFwL7hM36CHU",
        "colab_type": "code",
        "colab": {
          "base_uri": "https://localhost:8080/",
          "height": 35
        },
        "outputId": "597d5dc7-2e03-41a6-b6f2-d49f2aa9e450"
      },
      "source": [
        "diseases_test.shape"
      ],
      "execution_count": null,
      "outputs": [
        {
          "output_type": "execute_result",
          "data": {
            "text/plain": [
              "(2046, 2)"
            ]
          },
          "metadata": {
            "tags": []
          },
          "execution_count": 14
        }
      ]
    },
    {
      "cell_type": "code",
      "metadata": {
        "id": "4sjCcZBC6RU1",
        "colab_type": "code",
        "colab": {
          "base_uri": "https://localhost:8080/",
          "height": 203
        },
        "outputId": "cdd1d3fd-d543-4cb8-edae-05ad66695ad2"
      },
      "source": [
        "diseases_train.head()"
      ],
      "execution_count": null,
      "outputs": [
        {
          "output_type": "execute_result",
          "data": {
            "text/html": [
              "<div>\n",
              "<style scoped>\n",
              "    .dataframe tbody tr th:only-of-type {\n",
              "        vertical-align: middle;\n",
              "    }\n",
              "\n",
              "    .dataframe tbody tr th {\n",
              "        vertical-align: top;\n",
              "    }\n",
              "\n",
              "    .dataframe thead th {\n",
              "        text-align: right;\n",
              "    }\n",
              "</style>\n",
              "<table border=\"1\" class=\"dataframe\">\n",
              "  <thead>\n",
              "    <tr style=\"text-align: right;\">\n",
              "      <th></th>\n",
              "      <th>Title</th>\n",
              "      <th>Text</th>\n",
              "    </tr>\n",
              "  </thead>\n",
              "  <tbody>\n",
              "    <tr>\n",
              "      <th>0</th>\n",
              "      <td>Афта</td>\n",
              "      <td>Други имена: афтозна язва, устна афта. Англ: C...</td>\n",
              "    </tr>\n",
              "    <tr>\n",
              "      <th>1</th>\n",
              "      <td>Аутизъм</td>\n",
              "      <td>Други имена: аутистично разстройство. Англ: Au...</td>\n",
              "    </tr>\n",
              "    <tr>\n",
              "      <th>2</th>\n",
              "      <td>Родилни петна</td>\n",
              "      <td>Други имена: Белег по рождение. Англ: Birthmar...</td>\n",
              "    </tr>\n",
              "    <tr>\n",
              "      <th>3</th>\n",
              "      <td>Дребна шарка</td>\n",
              "      <td>Други имена: Морбили, брусница. Англ: Rubeola,...</td>\n",
              "    </tr>\n",
              "    <tr>\n",
              "      <th>4</th>\n",
              "      <td>Кучешка тения</td>\n",
              "      <td>Други имена: Ехинококоза Англ: Echinococcus, H...</td>\n",
              "    </tr>\n",
              "  </tbody>\n",
              "</table>\n",
              "</div>"
            ],
            "text/plain": [
              "           Title                                               Text\n",
              "0           Афта  Други имена: афтозна язва, устна афта. Англ: C...\n",
              "1        Аутизъм  Други имена: аутистично разстройство. Англ: Au...\n",
              "2  Родилни петна  Други имена: Белег по рождение. Англ: Birthmar...\n",
              "3   Дребна шарка  Други имена: Морбили, брусница. Англ: Rubeola,...\n",
              "4  Кучешка тения  Други имена: Ехинококоза Англ: Echinococcus, H..."
            ]
          },
          "metadata": {
            "tags": []
          },
          "execution_count": 15
        }
      ]
    },
    {
      "cell_type": "code",
      "metadata": {
        "id": "bI5yI03G6D_E",
        "colab_type": "code",
        "colab": {
          "base_uri": "https://localhost:8080/",
          "height": 35
        },
        "outputId": "65ada8e0-57f2-448e-91d1-368a6e796d84"
      },
      "source": [
        "diseases_train.shape"
      ],
      "execution_count": null,
      "outputs": [
        {
          "output_type": "execute_result",
          "data": {
            "text/plain": [
              "(8182, 2)"
            ]
          },
          "metadata": {
            "tags": []
          },
          "execution_count": 16
        }
      ]
    },
    {
      "cell_type": "code",
      "metadata": {
        "id": "sLFUW1PlH1qQ",
        "colab_type": "code",
        "colab": {}
      },
      "source": [
        "diseases_test, diseases_cross_validation = train_test_split(diseases_test, train_size=0.50, shuffle=False)"
      ],
      "execution_count": null,
      "outputs": []
    },
    {
      "cell_type": "code",
      "metadata": {
        "id": "m1gjquGfIKFs",
        "colab_type": "code",
        "colab": {
          "base_uri": "https://localhost:8080/",
          "height": 35
        },
        "outputId": "187f4356-88a4-4ebd-b5f1-c1cd04144d47"
      },
      "source": [
        "diseases_test.shape"
      ],
      "execution_count": null,
      "outputs": [
        {
          "output_type": "execute_result",
          "data": {
            "text/plain": [
              "(1023, 2)"
            ]
          },
          "metadata": {
            "tags": []
          },
          "execution_count": 18
        }
      ]
    },
    {
      "cell_type": "code",
      "metadata": {
        "id": "bDFTZN_-IKmt",
        "colab_type": "code",
        "colab": {
          "base_uri": "https://localhost:8080/",
          "height": 203
        },
        "outputId": "60ecc156-6270-4d77-82a1-0e231ad19fa6"
      },
      "source": [
        "diseases_test.head()"
      ],
      "execution_count": null,
      "outputs": [
        {
          "output_type": "execute_result",
          "data": {
            "text/html": [
              "<div>\n",
              "<style scoped>\n",
              "    .dataframe tbody tr th:only-of-type {\n",
              "        vertical-align: middle;\n",
              "    }\n",
              "\n",
              "    .dataframe tbody tr th {\n",
              "        vertical-align: top;\n",
              "    }\n",
              "\n",
              "    .dataframe thead th {\n",
              "        text-align: right;\n",
              "    }\n",
              "</style>\n",
              "<table border=\"1\" class=\"dataframe\">\n",
              "  <thead>\n",
              "    <tr style=\"text-align: right;\">\n",
              "      <th></th>\n",
              "      <th>Title</th>\n",
              "      <th>Text</th>\n",
              "    </tr>\n",
              "  </thead>\n",
              "  <tbody>\n",
              "    <tr>\n",
              "      <th>7946</th>\n",
              "      <td>Открити рани, обхващащи няколко  области от тя...</td>\n",
              "      <td>Раната представлява травмено увреждане на тъка...</td>\n",
              "    </tr>\n",
              "    <tr>\n",
              "      <th>7947</th>\n",
              "      <td>Повърхностни травми, обхващащи  няколко област...</td>\n",
              "      <td>Повърхностните травми представляват увреждане ...</td>\n",
              "    </tr>\n",
              "    <tr>\n",
              "      <th>7948</th>\n",
              "      <td>Травма с неуточнена локализация МКБ T14</td>\n",
              "      <td>Под понятието травма е прието да се разбират н...</td>\n",
              "    </tr>\n",
              "    <tr>\n",
              "      <th>7949</th>\n",
              "      <td>Счупване на долен крайник  на неуточнено ниво ...</td>\n",
              "      <td>Под термина счупване или фрактура се разбира п...</td>\n",
              "    </tr>\n",
              "    <tr>\n",
              "      <th>7950</th>\n",
              "      <td>Други травми на горен крайник  на неуточнено н...</td>\n",
              "      <td>Травмата представлява въздействието на външен ...</td>\n",
              "    </tr>\n",
              "  </tbody>\n",
              "</table>\n",
              "</div>"
            ],
            "text/plain": [
              "                                                  Title                                               Text\n",
              "7946  Открити рани, обхващащи няколко  области от тя...  Раната представлява травмено увреждане на тъка...\n",
              "7947  Повърхностни травми, обхващащи  няколко област...  Повърхностните травми представляват увреждане ...\n",
              "7948            Травма с неуточнена локализация МКБ T14  Под понятието травма е прието да се разбират н...\n",
              "7949  Счупване на долен крайник  на неуточнено ниво ...  Под термина счупване или фрактура се разбира п...\n",
              "7950  Други травми на горен крайник  на неуточнено н...  Травмата представлява въздействието на външен ..."
            ]
          },
          "metadata": {
            "tags": []
          },
          "execution_count": 19
        }
      ]
    },
    {
      "cell_type": "code",
      "metadata": {
        "id": "xDpCCT7nIMLw",
        "colab_type": "code",
        "colab": {
          "base_uri": "https://localhost:8080/",
          "height": 35
        },
        "outputId": "387080b0-5489-4c87-a208-e9a8c9285d16"
      },
      "source": [
        "diseases_cross_validation.shape"
      ],
      "execution_count": null,
      "outputs": [
        {
          "output_type": "execute_result",
          "data": {
            "text/plain": [
              "(1023, 2)"
            ]
          },
          "metadata": {
            "tags": []
          },
          "execution_count": 20
        }
      ]
    },
    {
      "cell_type": "code",
      "metadata": {
        "id": "ieRSEwzJIOyD",
        "colab_type": "code",
        "colab": {
          "base_uri": "https://localhost:8080/",
          "height": 203
        },
        "outputId": "a5cd077c-0ef3-4f87-aa14-9d23c78dd705"
      },
      "source": [
        "diseases_cross_validation.head()"
      ],
      "execution_count": null,
      "outputs": [
        {
          "output_type": "execute_result",
          "data": {
            "text/html": [
              "<div>\n",
              "<style scoped>\n",
              "    .dataframe tbody tr th:only-of-type {\n",
              "        vertical-align: middle;\n",
              "    }\n",
              "\n",
              "    .dataframe tbody tr th {\n",
              "        vertical-align: top;\n",
              "    }\n",
              "\n",
              "    .dataframe thead th {\n",
              "        text-align: right;\n",
              "    }\n",
              "</style>\n",
              "<table border=\"1\" class=\"dataframe\">\n",
              "  <thead>\n",
              "    <tr style=\"text-align: right;\">\n",
              "      <th></th>\n",
              "      <th>Title</th>\n",
              "      <th>Text</th>\n",
              "    </tr>\n",
              "  </thead>\n",
              "  <tbody>\n",
              "    <tr>\n",
              "      <th>8969</th>\n",
              "      <td>Други симптоми и признаци, отнасящи се до емоц...</td>\n",
              "      <td>Няма описание на заболяването.</td>\n",
              "    </tr>\n",
              "    <tr>\n",
              "      <th>8970</th>\n",
              "      <td>Съдържание на алкохол в кръвта 20-39 мг/100 мл...</td>\n",
              "      <td>При съдържание на алкохол в кръвта 20-39 мг/10...</td>\n",
              "    </tr>\n",
              "    <tr>\n",
              "      <th>8971</th>\n",
              "      <td>Съдържание на алкохол в кръвта по-малко от 20 ...</td>\n",
              "      <td>При съдържание на алкохол в кръвта по-малко от...</td>\n",
              "    </tr>\n",
              "    <tr>\n",
              "      <th>8972</th>\n",
              "      <td>Състояние на емоционален шок и стрес, неуточне...</td>\n",
              "      <td>Няма описание на заболяването.</td>\n",
              "    </tr>\n",
              "    <tr>\n",
              "      <th>8973</th>\n",
              "      <td>Физическа агресивност МКБ R45.6</td>\n",
              "      <td>Няма описание на заболяването.</td>\n",
              "    </tr>\n",
              "  </tbody>\n",
              "</table>\n",
              "</div>"
            ],
            "text/plain": [
              "                                                  Title                                               Text\n",
              "8969  Други симптоми и признаци, отнасящи се до емоц...                     Няма описание на заболяването.\n",
              "8970  Съдържание на алкохол в кръвта 20-39 мг/100 мл...  При съдържание на алкохол в кръвта 20-39 мг/10...\n",
              "8971  Съдържание на алкохол в кръвта по-малко от 20 ...  При съдържание на алкохол в кръвта по-малко от...\n",
              "8972  Състояние на емоционален шок и стрес, неуточне...                     Няма описание на заболяването.\n",
              "8973                    Физическа агресивност МКБ R45.6                     Няма описание на заболяването."
            ]
          },
          "metadata": {
            "tags": []
          },
          "execution_count": 21
        }
      ]
    },
    {
      "cell_type": "code",
      "metadata": {
        "id": "mkaZ3ewX6Y1w",
        "colab_type": "code",
        "colab": {}
      },
      "source": [
        "diseases_train.to_csv('./data/diseases_train.csv', sep=',', encoding='utf-8', header=True, index=False)\n",
        "diseases_test.to_csv('./data/diseases_test.csv', sep=',', encoding='utf-8', header=True, index=False)\n",
        "diseases_cross_validation.to_csv('./data/diseases_cross_validation.csv', sep=',', encoding='utf-8', header=True, index=False)"
      ],
      "execution_count": null,
      "outputs": []
    }
  ]
}